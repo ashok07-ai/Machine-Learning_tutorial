{
 "cells": [
  {
   "cell_type": "markdown",
   "metadata": {},
   "source": [
    "# Introduction to Python"
   ]
  },
  {
   "cell_type": "raw",
   "metadata": {},
   "source": [
    "Python is a dynamically typed, general purpose programming language that supports an object oriented programming approach as well as functional programming approach.\n",
    "\n",
    "Python is an interpreted and high level progaramming language"
   ]
  },
  {
   "cell_type": "raw",
   "metadata": {},
   "source": [
    "Features of Python\n",
    "    a. It is interpreted and platform independent language\n",
    "    b. It provides very big library support. Some of popular libraries include Numpy, Tensorflow, Selenium, OpenCV"
   ]
  },
  {
   "cell_type": "markdown",
   "metadata": {},
   "source": [
    "# Print in Python"
   ]
  },
  {
   "cell_type": "code",
   "execution_count": 4,
   "metadata": {},
   "outputs": [
    {
     "name": "stdout",
     "output_type": "stream",
     "text": [
      "Hello Aliens\n",
      "5\n",
      "True\n",
      "5.66\n"
     ]
    }
   ],
   "source": [
    "#strings\n",
    "print(\"Hello Aliens\")\n",
    "\n",
    "#numbers\n",
    "print(5)\n",
    "\n",
    "#boolean\n",
    "print(True)\n",
    "\n",
    "#float\n",
    "print(5.66)"
   ]
  },
  {
   "cell_type": "code",
   "execution_count": 13,
   "metadata": {},
   "outputs": [
    {
     "name": "stdout",
     "output_type": "stream",
     "text": [
      "First line.\n",
      "Second line\n"
     ]
    }
   ],
   "source": [
    "#break line using \\n\n",
    "print(\"First line.\\nSecond line\")"
   ]
  },
  {
   "cell_type": "markdown",
   "metadata": {},
   "source": [
    "# Comments , Escape Sequence Characters"
   ]
  },
  {
   "cell_type": "raw",
   "metadata": {},
   "source": [
    "A comment is a part of the coding that the programmer doesnot want to execute, rather the programmer uses it to either explain a block of code or to avoid the execution of a specific part of the coding while tesing."
   ]
  },
  {
   "cell_type": "code",
   "execution_count": 11,
   "metadata": {},
   "outputs": [
    {
     "name": "stdout",
     "output_type": "stream",
     "text": [
      "This is a partial statement\n"
     ]
    }
   ],
   "source": [
    "# Single line comment\n",
    "print(\"This is a partial statement\")"
   ]
  },
  {
   "cell_type": "code",
   "execution_count": 12,
   "metadata": {},
   "outputs": [
    {
     "name": "stdout",
     "output_type": "stream",
     "text": [
      "Python Program\n"
     ]
    }
   ],
   "source": [
    "print(\"Python Program\")#Printing python program"
   ]
  },
  {
   "cell_type": "code",
   "execution_count": 9,
   "metadata": {},
   "outputs": [
    {
     "name": "stdout",
     "output_type": "stream",
     "text": [
      "p is greater than 5\n"
     ]
    }
   ],
   "source": [
    "\"\"\" This is a multiline string comment.\n",
    "Multiple comments can be given\n",
    "\"\"\"\n",
    "p = 7\n",
    "if (p > 5):\n",
    "    print(\"p is greater than 5\")\n",
    "else:\n",
    "    print(\"p is not greater than 5\")"
   ]
  },
  {
   "cell_type": "raw",
   "metadata": {},
   "source": [
    "To insert characters that cannot be directly used in a string, we use an escape sequence character\n",
    "An escape sequence character is a bakcslash \\ followed by the character you want to insert"
   ]
  },
  {
   "cell_type": "code",
   "execution_count": 15,
   "metadata": {},
   "outputs": [
    {
     "name": "stdout",
     "output_type": "stream",
     "text": [
      "Hey I am a \"Student\"\n",
      " and also a Software Developer\n"
     ]
    }
   ],
   "source": [
    "print(\"Hey I am a \\\"Student\\\"\\n and also a Software Developer\")"
   ]
  },
  {
   "cell_type": "markdown",
   "metadata": {},
   "source": [
    "# Variables and Datatypes"
   ]
  },
  {
   "cell_type": "raw",
   "metadata": {},
   "source": [
    "What is a Variable?\n",
    "Ans: Variables are containers for holding data and they're defined by a name and value."
   ]
  },
  {
   "cell_type": "code",
   "execution_count": null,
   "metadata": {},
   "outputs": [],
   "source": []
  },
  {
   "cell_type": "code",
   "execution_count": 19,
   "metadata": {},
   "outputs": [
    {
     "name": "stdout",
     "output_type": "stream",
     "text": [
      "1 True string None\n"
     ]
    }
   ],
   "source": [
    "a = 1 # a is a name and 1 is a value\n",
    "b = True # b is a name and True is a value\n",
    "c = \"string\" \n",
    "d = None\n",
    "print(a,b,c,d)"
   ]
  },
  {
   "cell_type": "raw",
   "metadata": {},
   "source": [
    "What is a Datatype?\n",
    "Ans: Datatype specifies the type of value a variable holds. This is required in programming to do various operations without causing an error\n",
    "\n",
    "1. Numeric Data: int,float, complex\n",
    "    a. int: 3,-8,0\n",
    "    b. float: 1.456, -9.0, 6.777787776\n",
    "    c. complex: 8+6i\n",
    "    \n",
    "2. Text Data: str\n",
    "    a. str: \"Hello World\", \"Python Programming\"\n",
    "    \n",
    "3. Boolean Data\n",
    "    Boolean data consist of values True of False\n",
    "   \n",
    "4. Sequenced data: list, tuple\n",
    "    a. list = [8,2.3,True]"
   ]
  },
  {
   "cell_type": "code",
   "execution_count": 28,
   "metadata": {},
   "outputs": [
    {
     "name": "stdout",
     "output_type": "stream",
     "text": [
      "The type is: <class 'int'>\n"
     ]
    }
   ],
   "source": [
    "number_var = 11\n",
    "print(\"The type is:\",type(number_var))"
   ]
  },
  {
   "cell_type": "code",
   "execution_count": 29,
   "metadata": {},
   "outputs": [
    {
     "name": "stdout",
     "output_type": "stream",
     "text": [
      "The type is:  <class 'bool'>\n"
     ]
    }
   ],
   "source": [
    "bool_var = True\n",
    "print(\"The type is: \",type(bool_var))"
   ]
  },
  {
   "cell_type": "code",
   "execution_count": 30,
   "metadata": {},
   "outputs": [
    {
     "name": "stdout",
     "output_type": "stream",
     "text": [
      "The type is:  <class 'complex'>\n"
     ]
    }
   ],
   "source": [
    "complex_var = complex(8,2)\n",
    "print(\"The type is: \", type(complex_var))"
   ]
  },
  {
   "cell_type": "code",
   "execution_count": 31,
   "metadata": {},
   "outputs": [
    {
     "name": "stdout",
     "output_type": "stream",
     "text": [
      "The type is:  Hello Programming\n"
     ]
    }
   ],
   "source": [
    "string_var = \"Hello Programming\"\n",
    "print(\"The type is: \", string_var)"
   ]
  },
  {
   "cell_type": "markdown",
   "metadata": {},
   "source": [
    "# Operators"
   ]
  },
  {
   "cell_type": "raw",
   "metadata": {},
   "source": [
    "Arithmatic Operators\n",
    "    Operator              OperatorName            Example\n",
    "        +                   Addition                 a+b\n",
    "        -                   Subtraction              a-b\n",
    "        /                   Division                 a/b\n",
    "        *                   Multiplication           a*b\n",
    "        **                  Exponential              a**b\n",
    "        %                   Modulus                  a%b\n",
    "        //                  Floor Division           a//b"
   ]
  },
  {
   "cell_type": "code",
   "execution_count": 32,
   "metadata": {},
   "outputs": [
    {
     "name": "stdout",
     "output_type": "stream",
     "text": [
      "10\n",
      "4\n",
      "21\n",
      "2.3333333333333335\n",
      "125\n",
      "0\n",
      "1\n"
     ]
    }
   ],
   "source": [
    "print(7+3) # Addition\n",
    "print(7-3) # Subtraction\n",
    "print(7*3) # Multiplication\n",
    "print(7/3) # Division\n",
    "print(5**3) #Exponential\n",
    "print(9%3) # Modulus\n",
    "print(5//3) # Floor Division"
   ]
  },
  {
   "cell_type": "markdown",
   "metadata": {},
   "source": [
    "# Typecasting"
   ]
  },
  {
   "cell_type": "raw",
   "metadata": {},
   "source": [
    "The conversion of one data type to another datatype is called typecasting. \n",
    "Two Types of Typecasting\n",
    "    a. Explicit Conversion\n",
    "    Ans: The conversion of one datatype to another datatype done via developer or programmer is called explicit conversion\n",
    "    \n",
    "    b. Implicit Converison\n",
    "    Ans: The conversion of one datatype to another datatype by the python interpreter iteself(automatically) is called implicit          conversion. Python converts a smaller datatype to a higer data type to prevent data loss"
   ]
  },
  {
   "cell_type": "code",
   "execution_count": 34,
   "metadata": {},
   "outputs": [
    {
     "name": "stdout",
     "output_type": "stream",
     "text": [
      "35\n",
      "35.0\n"
     ]
    }
   ],
   "source": [
    "# Example of explicit type converison\n",
    "first_value = \"12\"\n",
    "second_value = \"23\"\n",
    "print(int(first_value) + int(second_value))\n",
    "print(float(first_value) + float(second_value))"
   ]
  },
  {
   "cell_type": "code",
   "execution_count": 37,
   "metadata": {},
   "outputs": [
    {
     "name": "stdout",
     "output_type": "stream",
     "text": [
      "50.8\n",
      "The type is:  <class 'float'>\n"
     ]
    }
   ],
   "source": [
    "# Example of implicit type conversion\n",
    "num1 = 20.8\n",
    "num2 = 30\n",
    "result = num1 + num2\n",
    "print(result)\n",
    "print(\"The type is: \", type(result))"
   ]
  },
  {
   "cell_type": "markdown",
   "metadata": {},
   "source": [
    "# Taking User Input"
   ]
  },
  {
   "cell_type": "raw",
   "metadata": {},
   "source": [
    "In python, we can take user input directly by using input() function. The input function gives a return value as stirng/character."
   ]
  },
  {
   "cell_type": "code",
   "execution_count": 38,
   "metadata": {},
   "outputs": [
    {
     "name": "stdout",
     "output_type": "stream",
     "text": [
      "Enter a name: ashok\n",
      "My name is:  ashok\n"
     ]
    }
   ],
   "source": [
    "ask_name = input(\"Enter a name: \")\n",
    "print(\"My name is: \", ask_name)"
   ]
  },
  {
   "cell_type": "code",
   "execution_count": 39,
   "metadata": {},
   "outputs": [
    {
     "name": "stdout",
     "output_type": "stream",
     "text": [
      "Enter first number: 120\n",
      "Enter a second number: 30\n",
      "The result is:  150.0\n"
     ]
    }
   ],
   "source": [
    "# addition of two numbers\n",
    "input_one = int(input(\"Enter first number: \"))\n",
    "input_two = float(input(\"Enter a second number: \"))\n",
    "result = input_one + input_two\n",
    "print(\"The result is: \", result)"
   ]
  }
 ],
 "metadata": {
  "kernelspec": {
   "display_name": "Python 3",
   "language": "python",
   "name": "python3"
  },
  "language_info": {
   "codemirror_mode": {
    "name": "ipython",
    "version": 3
   },
   "file_extension": ".py",
   "mimetype": "text/x-python",
   "name": "python",
   "nbconvert_exporter": "python",
   "pygments_lexer": "ipython3",
   "version": "3.7.6"
  }
 },
 "nbformat": 4,
 "nbformat_minor": 4
}
