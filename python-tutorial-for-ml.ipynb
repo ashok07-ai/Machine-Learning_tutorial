{
 "cells": [
  {
   "cell_type": "markdown",
   "metadata": {},
   "source": [
    "# Introduction to Python"
   ]
  },
  {
   "cell_type": "markdown",
   "metadata": {},
   "source": [
    "Python is a dynamically typed, general purpose programming language that supports an object oriented programming approach as well as functional programming approach.\n",
    "\n",
    "Python is an interpreted and high level progaramming language"
   ]
  },
  {
   "cell_type": "markdown",
   "metadata": {},
   "source": [
    "Features of Python\n",
    "    a. It is interpreted and platform independent language\n",
    "    b. It provides very big library support. Some of popular libraries include Numpy, Tensorflow, Selenium, OpenCV"
   ]
  },
  {
   "cell_type": "markdown",
   "metadata": {},
   "source": [
    "# Print in Python"
   ]
  },
  {
   "cell_type": "code",
   "execution_count": 1,
   "metadata": {},
   "outputs": [
    {
     "name": "stdout",
     "output_type": "stream",
     "text": [
      "Hello Aliens\n",
      "5\n",
      "True\n",
      "5.66\n"
     ]
    }
   ],
   "source": [
    "#strings\n",
    "print(\"Hello Aliens\")\n",
    "\n",
    "#numbers\n",
    "print(5)\n",
    "\n",
    "#boolean\n",
    "print(True)\n",
    "\n",
    "#float\n",
    "print(5.66)"
   ]
  },
  {
   "cell_type": "code",
   "execution_count": 2,
   "metadata": {},
   "outputs": [
    {
     "name": "stdout",
     "output_type": "stream",
     "text": [
      "First line.\n",
      "Second line\n"
     ]
    }
   ],
   "source": [
    "#break line using \\n\n",
    "print(\"First line.\\nSecond line\")"
   ]
  },
  {
   "cell_type": "markdown",
   "metadata": {},
   "source": [
    "# Comments , Escape Sequence Characters"
   ]
  },
  {
   "cell_type": "markdown",
   "metadata": {},
   "source": [
    "A comment is a part of the coding that the programmer doesnot want to execute, rather the programmer uses it to either explain a block of code or to avoid the execution of a specific part of the coding while tesing."
   ]
  },
  {
   "cell_type": "code",
   "execution_count": 3,
   "metadata": {},
   "outputs": [
    {
     "name": "stdout",
     "output_type": "stream",
     "text": [
      "This is a partial statement\n"
     ]
    }
   ],
   "source": [
    "# Single line comment\n",
    "print(\"This is a partial statement\")"
   ]
  },
  {
   "cell_type": "code",
   "execution_count": 4,
   "metadata": {},
   "outputs": [
    {
     "name": "stdout",
     "output_type": "stream",
     "text": [
      "Python Program\n"
     ]
    }
   ],
   "source": [
    "print(\"Python Program\")#Printing python program"
   ]
  },
  {
   "cell_type": "code",
   "execution_count": 5,
   "metadata": {},
   "outputs": [
    {
     "name": "stdout",
     "output_type": "stream",
     "text": [
      "p is greater than 5\n"
     ]
    }
   ],
   "source": [
    "\"\"\" This is a multiline string comment.\n",
    "Multiple comments can be given\n",
    "\"\"\"\n",
    "p = 7\n",
    "if (p > 5):\n",
    "    print(\"p is greater than 5\")\n",
    "else:\n",
    "    print(\"p is not greater than 5\")"
   ]
  },
  {
   "cell_type": "markdown",
   "metadata": {},
   "source": [
    "To insert characters that cannot be directly used in a string, we use an escape sequence character\n",
    "An escape sequence character is a bakcslash \\ followed by the character you want to insert"
   ]
  },
  {
   "cell_type": "code",
   "execution_count": 6,
   "metadata": {},
   "outputs": [
    {
     "name": "stdout",
     "output_type": "stream",
     "text": [
      "Hey I am a \"Student\"\n",
      " and also a Software Developer\n"
     ]
    }
   ],
   "source": [
    "print(\"Hey I am a \\\"Student\\\"\\n and also a Software Developer\")"
   ]
  },
  {
   "cell_type": "markdown",
   "metadata": {},
   "source": [
    "# Variables and Datatypes"
   ]
  },
  {
   "cell_type": "markdown",
   "metadata": {},
   "source": [
    "What is a Variable?\n",
    "Ans: Variables are containers for holding data and they're defined by a name and value."
   ]
  },
  {
   "cell_type": "code",
   "execution_count": 7,
   "metadata": {},
   "outputs": [
    {
     "name": "stdout",
     "output_type": "stream",
     "text": [
      "1 True string None\n"
     ]
    }
   ],
   "source": [
    "a = 1 # a is a name and 1 is a value\n",
    "b = True # b is a name and True is a value\n",
    "c = \"string\" \n",
    "d = None\n",
    "print(a,b,c,d)"
   ]
  },
  {
   "cell_type": "markdown",
   "metadata": {},
   "source": [
    "What is a Datatype?\n",
    "Ans: Datatype specifies the type of value a variable holds. This is required in programming to do various operations without causing an error\n",
    "\n",
    "1. Numeric Data: int,float, complex\n",
    "    a. int: 3,-8,0\n",
    "    b. float: 1.456, -9.0, 6.777787776\n",
    "    c. complex: 8+6i\n",
    "    \n",
    "2. Text Data: str\n",
    "    a. str: \"Hello World\", \"Python Programming\"\n",
    "    \n",
    "3. Boolean Data\n",
    "    Boolean data consist of values True of False\n",
    "   \n",
    "4. Sequenced data: list, tuple\n",
    "    a. list = [8,2.3,True]"
   ]
  },
  {
   "cell_type": "code",
   "execution_count": 8,
   "metadata": {},
   "outputs": [
    {
     "name": "stdout",
     "output_type": "stream",
     "text": [
      "The type is: <class 'int'>\n"
     ]
    }
   ],
   "source": [
    "number_var = 11\n",
    "print(\"The type is:\",type(number_var))"
   ]
  },
  {
   "cell_type": "code",
   "execution_count": 9,
   "metadata": {},
   "outputs": [
    {
     "name": "stdout",
     "output_type": "stream",
     "text": [
      "The type is:  <class 'bool'>\n"
     ]
    }
   ],
   "source": [
    "bool_var = True\n",
    "print(\"The type is: \",type(bool_var))"
   ]
  },
  {
   "cell_type": "code",
   "execution_count": 10,
   "metadata": {},
   "outputs": [
    {
     "name": "stdout",
     "output_type": "stream",
     "text": [
      "The type is:  <class 'complex'>\n"
     ]
    }
   ],
   "source": [
    "complex_var = complex(8,2)\n",
    "print(\"The type is: \", type(complex_var))"
   ]
  },
  {
   "cell_type": "code",
   "execution_count": 94,
   "metadata": {},
   "outputs": [
    {
     "name": "stdout",
     "output_type": "stream",
     "text": [
      "The type is:  Hello Programming\n"
     ]
    }
   ],
   "source": [
    "string_var = \"Hello Programming\"\n",
    "print(\"The type is: \", string_var)"
   ]
  },
  {
   "cell_type": "markdown",
   "metadata": {},
   "source": [
    "# Tokens, Identifiers and Operators"
   ]
  },
  {
   "cell_type": "code",
   "execution_count": 95,
   "metadata": {},
   "outputs": [],
   "source": [
    "# Token in python\n",
    "# Every logical line of code is called token\n",
    "# z = 50 (consist of 3 tokens)"
   ]
  },
  {
   "cell_type": "code",
   "execution_count": 96,
   "metadata": {},
   "outputs": [],
   "source": [
    "# Keywords\n",
    "# Keywords are defined as pre-defined words which have some special meanings.\n",
    "# example: def, if, lambda, import, else,.., etc"
   ]
  },
  {
   "cell_type": "code",
   "execution_count": 98,
   "metadata": {},
   "outputs": [],
   "source": [
    "# Identifiers\n",
    "# Identifiers are the user-defined names which is used to identify functions, variables, classes etc\n",
    "# Keywords cant be used as identifiers\n",
    "# example: x = 100"
   ]
  },
  {
   "cell_type": "raw",
   "metadata": {},
   "source": [
    "Arithmatic Operators\n",
    "    Operator              OperatorName            Example\n",
    "        +                   Addition                 a+b\n",
    "        -                   Subtraction              a-b\n",
    "        /                   Division                 a/b\n",
    "        *                   Multiplication           a*b\n",
    "        **                  Exponential              a**b\n",
    "        %                   Modulus                  a%b\n",
    "        //                  Floor Division           a//b"
   ]
  },
  {
   "cell_type": "code",
   "execution_count": 100,
   "metadata": {},
   "outputs": [
    {
     "name": "stdout",
     "output_type": "stream",
     "text": [
      "10\n",
      "4\n",
      "21\n",
      "2.3333333333333335\n",
      "125\n",
      "0\n",
      "1\n"
     ]
    }
   ],
   "source": [
    "print(7+3) # Addition\n",
    "print(7-3) # Subtraction\n",
    "print(7*3) # Multiplication\n",
    "print(7/3) # Division\n",
    "print(5**3) #Exponential\n",
    "print(9%3) # Modulus\n",
    "print(5//3) # Floor Division"
   ]
  },
  {
   "cell_type": "code",
   "execution_count": 101,
   "metadata": {},
   "outputs": [
    {
     "name": "stdout",
     "output_type": "stream",
     "text": [
      "30\n"
     ]
    }
   ],
   "source": [
    "# Arithmatic Operator\n",
    "a = 10\n",
    "b = 20\n",
    "c = a + b\n",
    "print(c)"
   ]
  },
  {
   "cell_type": "code",
   "execution_count": 102,
   "metadata": {},
   "outputs": [
    {
     "name": "stdout",
     "output_type": "stream",
     "text": [
      "25\n"
     ]
    }
   ],
   "source": [
    "# Exponential Operator (**)\n",
    "x = 5\n",
    "print(x**2)"
   ]
  },
  {
   "cell_type": "code",
   "execution_count": 103,
   "metadata": {},
   "outputs": [
    {
     "name": "stdout",
     "output_type": "stream",
     "text": [
      "1\n"
     ]
    }
   ],
   "source": [
    "# Modulus (%)\n",
    "x = 5\n",
    "y = 2\n",
    "print(x%y)"
   ]
  },
  {
   "cell_type": "code",
   "execution_count": 104,
   "metadata": {},
   "outputs": [
    {
     "data": {
      "text/plain": [
       "False"
      ]
     },
     "execution_count": 104,
     "metadata": {},
     "output_type": "execute_result"
    }
   ],
   "source": [
    "# Comparision Operator (==)\n",
    "1 == 1 == 0"
   ]
  },
  {
   "cell_type": "code",
   "execution_count": 105,
   "metadata": {},
   "outputs": [
    {
     "name": "stdout",
     "output_type": "stream",
     "text": [
      "False\n",
      "True\n",
      "True\n",
      "False\n"
     ]
    }
   ],
   "source": [
    "# (!=) Comparision Operator\n",
    "print(1 != 1)\n",
    "print(1 != 2)\n",
    "print(1 != 2 != 3)\n",
    "print(1 != 1 != 2)"
   ]
  },
  {
   "cell_type": "code",
   "execution_count": 106,
   "metadata": {},
   "outputs": [
    {
     "name": "stdout",
     "output_type": "stream",
     "text": [
      "True\n",
      "False\n"
     ]
    }
   ],
   "source": [
    "# Logical Operator\n",
    "# AND Logical Operator (returns true if output of both result is ture)\n",
    "print(15 > 13 and 15 > 12)\n",
    "print(15 < 12 and 15 < 20)"
   ]
  },
  {
   "cell_type": "code",
   "execution_count": 107,
   "metadata": {},
   "outputs": [
    {
     "name": "stdout",
     "output_type": "stream",
     "text": [
      "True\n",
      "False\n"
     ]
    }
   ],
   "source": [
    "# OR Logical Operator (returns true if one of the result is true)\n",
    "print(15 < 12 or 15 < 20)\n",
    "print(12 < 10 or 20 < 10)"
   ]
  },
  {
   "cell_type": "code",
   "execution_count": 108,
   "metadata": {},
   "outputs": [
    {
     "name": "stdout",
     "output_type": "stream",
     "text": [
      "False\n"
     ]
    }
   ],
   "source": [
    "# Inverse Operator (not)\n",
    "a = True\n",
    "print(not a)"
   ]
  },
  {
   "cell_type": "code",
   "execution_count": 109,
   "metadata": {},
   "outputs": [
    {
     "name": "stdout",
     "output_type": "stream",
     "text": [
      "0\n"
     ]
    }
   ],
   "source": [
    "# Bitwise Operator\n",
    "# It is used to compare (binary) numbers\n",
    "# Bitwise AND Operator\n",
    "\n",
    "#example: 0 & 0 ==> 0\n",
    "# 0 & 1 ==> 0\n",
    "# 1 & 0 ==> 0\n",
    "print(1 & 0)"
   ]
  },
  {
   "cell_type": "code",
   "execution_count": 110,
   "metadata": {},
   "outputs": [
    {
     "name": "stdout",
     "output_type": "stream",
     "text": [
      "1\n"
     ]
    }
   ],
   "source": [
    "# Bitwise OR Operator\n",
    "#example: 0 | 0 ==> 0\n",
    "# 0 | 1 ==> 1\n",
    "# 1 | 0 ==> 1\n",
    "print(1 | 0)"
   ]
  },
  {
   "cell_type": "markdown",
   "metadata": {},
   "source": [
    "# Typecasting"
   ]
  },
  {
   "cell_type": "markdown",
   "metadata": {},
   "source": [
    "The conversion of one data type to another datatype is called typecasting. \n",
    "Two Types of Typecasting\n",
    "    \n",
    "    a. Explicit Conversion\n",
    "    Ans: The conversion of one datatype to another datatype done via developer or programmer is called explicit conversion\n",
    "   \n",
    "    b. Implicit Converison\n",
    "    Ans: The conversion of one datatype to another datatype by the python interpreter iteself(automatically) is called implicit conversion. Python converts a smaller datatype to a higer data type to prevent data loss"
   ]
  },
  {
   "cell_type": "code",
   "execution_count": 13,
   "metadata": {},
   "outputs": [
    {
     "name": "stdout",
     "output_type": "stream",
     "text": [
      "35\n",
      "35.0\n"
     ]
    }
   ],
   "source": [
    "# Example of explicit type converison\n",
    "first_value = \"12\"\n",
    "second_value = \"23\"\n",
    "print(int(first_value) + int(second_value))\n",
    "print(float(first_value) + float(second_value))"
   ]
  },
  {
   "cell_type": "code",
   "execution_count": 14,
   "metadata": {},
   "outputs": [
    {
     "name": "stdout",
     "output_type": "stream",
     "text": [
      "50.8\n",
      "The type is:  <class 'float'>\n"
     ]
    }
   ],
   "source": [
    "# Example of implicit type conversion\n",
    "num1 = 20.8\n",
    "num2 = 30\n",
    "result = num1 + num2\n",
    "print(result)\n",
    "print(\"The type is: \", type(result))"
   ]
  },
  {
   "cell_type": "markdown",
   "metadata": {},
   "source": [
    "# Taking User Input"
   ]
  },
  {
   "cell_type": "markdown",
   "metadata": {},
   "source": [
    "In python, we can take user input directly by using input() function. The input function gives a return value as stirng/character."
   ]
  },
  {
   "cell_type": "code",
   "execution_count": 15,
   "metadata": {},
   "outputs": [
    {
     "name": "stdout",
     "output_type": "stream",
     "text": [
      "Enter a name: ashok\n",
      "My name is:  ashok\n"
     ]
    }
   ],
   "source": [
    "ask_name = input(\"Enter a name: \")\n",
    "print(\"My name is: \", ask_name)"
   ]
  },
  {
   "cell_type": "code",
   "execution_count": 16,
   "metadata": {},
   "outputs": [
    {
     "name": "stdout",
     "output_type": "stream",
     "text": [
      "Enter first number: 12\n",
      "Enter a second number: 34\n",
      "The result is:  46.0\n"
     ]
    }
   ],
   "source": [
    "# addition of two numbers\n",
    "input_one = int(input(\"Enter first number: \"))\n",
    "input_two = float(input(\"Enter a second number: \"))\n",
    "result = input_one + input_two\n",
    "print(\"The result is: \", result)"
   ]
  },
  {
   "cell_type": "markdown",
   "metadata": {},
   "source": [
    "# Strings"
   ]
  },
  {
   "cell_type": "markdown",
   "metadata": {},
   "source": [
    "In python, anything that you enclose between single or double quotation marks is considered as a string. "
   ]
  },
  {
   "cell_type": "code",
   "execution_count": 17,
   "metadata": {},
   "outputs": [
    {
     "name": "stdout",
     "output_type": "stream",
     "text": [
      "Dell Ashok \n",
      "    Python is a programming language\n",
      "    It is used in Machine Learning\n",
      "    It is easy to use\n",
      "\n"
     ]
    }
   ],
   "source": [
    "name = \"Dell\"\n",
    "friend = \"Ashok\"\n",
    "python_desc = '''\n",
    "    Python is a programming language\n",
    "    It is used in Machine Learning\n",
    "    It is easy to use\n",
    "'''\n",
    "print(name, friend, python_desc)"
   ]
  },
  {
   "cell_type": "markdown",
   "metadata": {},
   "source": [
    "# String Slicing & Operations on String"
   ]
  },
  {
   "cell_type": "markdown",
   "metadata": {},
   "source": [
    "Length of a string:\n",
    "    We can find the length of string using len() function"
   ]
  },
  {
   "cell_type": "code",
   "execution_count": 18,
   "metadata": {},
   "outputs": [
    {
     "name": "stdout",
     "output_type": "stream",
     "text": [
      "Mango is a 5 letter word.\n"
     ]
    }
   ],
   "source": [
    "fruit = \"Mango\"\n",
    "len1 = len(fruit)\n",
    "print(\"Mango is a\", len1, \"letter word.\")"
   ]
  },
  {
   "cell_type": "markdown",
   "metadata": {},
   "source": [
    "# String as an array"
   ]
  },
  {
   "cell_type": "markdown",
   "metadata": {},
   "source": [
    "A string is essentially a sequence of characters also called an array. Thus we can access the elements of an array"
   ]
  },
  {
   "cell_type": "code",
   "execution_count": 19,
   "metadata": {},
   "outputs": [
    {
     "name": "stdout",
     "output_type": "stream",
     "text": [
      "Pinea\n",
      "p\n",
      "Pineap\n",
      "nea\n"
     ]
    }
   ],
   "source": [
    "pie = \"Pineapple\"\n",
    "print(pie[:5])\n",
    "print(pie[6]) #returns character at specific index\n",
    "print(pie[:-3])\n",
    "print(pie[-7:-4])"
   ]
  },
  {
   "cell_type": "markdown",
   "metadata": {},
   "source": [
    "# Loop through a string"
   ]
  },
  {
   "cell_type": "markdown",
   "metadata": {},
   "source": [
    "Strings are arrays and are iterable. Thus we can loop through strings"
   ]
  },
  {
   "cell_type": "code",
   "execution_count": 20,
   "metadata": {},
   "outputs": [
    {
     "name": "stdout",
     "output_type": "stream",
     "text": [
      "P\n",
      "y\n",
      "t\n",
      "h\n",
      "o\n",
      "n\n"
     ]
    }
   ],
   "source": [
    "word_alpha = \"Python\"\n",
    "for i in word_alpha:\n",
    "    print(i)"
   ]
  },
  {
   "cell_type": "markdown",
   "metadata": {},
   "source": [
    "# String Methods "
   ]
  },
  {
   "cell_type": "markdown",
   "metadata": {},
   "source": [
    "Python provides a set built in methods that we can use to alter and modify the strings\n",
    "\n",
    "upper():\n",
    "The upper() method converts a string to uppercase"
   ]
  },
  {
   "cell_type": "code",
   "execution_count": null,
   "metadata": {},
   "outputs": [],
   "source": []
  },
  {
   "cell_type": "code",
   "execution_count": 21,
   "metadata": {},
   "outputs": [
    {
     "name": "stdout",
     "output_type": "stream",
     "text": [
      "ABCDEFGHI\n"
     ]
    }
   ],
   "source": [
    "str1 = \"AbcdEfghI\"\n",
    "print(str1.upper())"
   ]
  },
  {
   "cell_type": "markdown",
   "metadata": {},
   "source": [
    "lower(): The lower() method converts a string to lower case"
   ]
  },
  {
   "cell_type": "code",
   "execution_count": 22,
   "metadata": {},
   "outputs": [
    {
     "name": "stdout",
     "output_type": "stream",
     "text": [
      "abvcdfedrrtt\n"
     ]
    }
   ],
   "source": [
    "str2 = \"AbvcdfedRRTT\"\n",
    "print(str2.lower())"
   ]
  },
  {
   "cell_type": "markdown",
   "metadata": {},
   "source": [
    "strip(): The strip() method removes any white spaces before and after the string"
   ]
  },
  {
   "cell_type": "code",
   "execution_count": 23,
   "metadata": {},
   "outputs": [
    {
     "name": "stdout",
     "output_type": "stream",
     "text": [
      "Silver Spoon\n"
     ]
    }
   ],
   "source": [
    "str3 = \"  Silver Spoon   \"\n",
    "print(str3.strip())"
   ]
  },
  {
   "cell_type": "markdown",
   "metadata": {},
   "source": [
    "rstrip(): the rstrip() removes any trailing character"
   ]
  },
  {
   "cell_type": "code",
   "execution_count": 24,
   "metadata": {},
   "outputs": [
    {
     "name": "stdout",
     "output_type": "stream",
     "text": [
      "Hello \n"
     ]
    }
   ],
   "source": [
    "str4 = \"Hello !!!!\"\n",
    "print(str4.rstrip(\"!\"))"
   ]
  },
  {
   "cell_type": "markdown",
   "metadata": {},
   "source": [
    "replace(): The replace() method replaces all the occurrences of a string with another string"
   ]
  },
  {
   "cell_type": "code",
   "execution_count": 25,
   "metadata": {},
   "outputs": [
    {
     "name": "stdout",
     "output_type": "stream",
     "text": [
      "Silver Moon\n"
     ]
    }
   ],
   "source": [
    "str5 = \"Silver Spoon\"\n",
    "print(str5.replace(\"Sp\", \"M\"))"
   ]
  },
  {
   "cell_type": "markdown",
   "metadata": {},
   "source": [
    "split(): The split() method splits the given string at the specified instance and returns the separated string as list items"
   ]
  },
  {
   "cell_type": "code",
   "execution_count": 26,
   "metadata": {},
   "outputs": [
    {
     "name": "stdout",
     "output_type": "stream",
     "text": [
      "['Silver', 'Spoon']\n"
     ]
    }
   ],
   "source": [
    "str6 = \"Silver Spoon\"\n",
    "print(str6.split(\" \"))"
   ]
  },
  {
   "cell_type": "markdown",
   "metadata": {},
   "source": [
    "find(): The find() method searches for the first occurrence of the given value and returns the index where it is present. If the given value is absent fromt the string then return -1"
   ]
  },
  {
   "cell_type": "code",
   "execution_count": 27,
   "metadata": {},
   "outputs": [
    {
     "name": "stdout",
     "output_type": "stream",
     "text": [
      "7\n"
     ]
    }
   ],
   "source": [
    "str7 = \"Python is a programming Language. It is easy to use\"\n",
    "print(str7.find(\"is\"))"
   ]
  },
  {
   "cell_type": "markdown",
   "metadata": {},
   "source": [
    "isalnum(): The isalnum() method returns True only if the entire string only consists of A-Z, a-z, 0-9. If any other characters or punctuations are not present then it returns False"
   ]
  },
  {
   "cell_type": "code",
   "execution_count": 28,
   "metadata": {},
   "outputs": [
    {
     "name": "stdout",
     "output_type": "stream",
     "text": [
      "True\n"
     ]
    }
   ],
   "source": [
    "str8 = \"Welcometotheconsole\"\n",
    "print(str8.isalnum())"
   ]
  },
  {
   "cell_type": "markdown",
   "metadata": {},
   "source": [
    "# If-else Statements"
   ]
  },
  {
   "cell_type": "raw",
   "metadata": {},
   "source": [
    "a. if\n",
    "b. if-else\n",
    "c. if-else-elif\n",
    "d. nested if-else-elif"
   ]
  },
  {
   "cell_type": "code",
   "execution_count": 29,
   "metadata": {},
   "outputs": [
    {
     "name": "stdout",
     "output_type": "stream",
     "text": [
      "Enter the age: 5\n",
      "You cannot Drive\n"
     ]
    }
   ],
   "source": [
    "# example of if-else statement\n",
    "user_age = int(input(\"Enter the age: \"))\n",
    "if(user_age > 20):\n",
    "    print(\"You can Drive\")\n",
    "else:\n",
    "    print(\"You cannot Drive\")"
   ]
  },
  {
   "cell_type": "code",
   "execution_count": 30,
   "metadata": {},
   "outputs": [
    {
     "name": "stdout",
     "output_type": "stream",
     "text": [
      "Low\n"
     ]
    }
   ],
   "source": [
    "# example of if-elif-else statement\n",
    "temprature = 10\n",
    "if(temprature == 20):\n",
    "    print(\"Moderate\")\n",
    "elif(temprature > 20):\n",
    "    print(\"High\")\n",
    "else:\n",
    "    print(\"Low\")"
   ]
  },
  {
   "cell_type": "code",
   "execution_count": 31,
   "metadata": {},
   "outputs": [
    {
     "name": "stdout",
     "output_type": "stream",
     "text": [
      "Seocond Division\n"
     ]
    }
   ],
   "source": [
    "# example of nested if-elif-else statement\n",
    "percentage = 55.7\n",
    "if(percentage >= 70 and percentage <=100):\n",
    "    print(\"Distinction\")\n",
    "elif(percentage >= 60 and percentage < 70):\n",
    "    print(\"First division\")\n",
    "elif(percentage > 50 and percentage < 60):\n",
    "    print(\"Seocond Division\")\n",
    "else:\n",
    "    print(\"Fail\")"
   ]
  },
  {
   "cell_type": "markdown",
   "metadata": {},
   "source": [
    "# Match Case Statement"
   ]
  },
  {
   "cell_type": "markdown",
   "metadata": {},
   "source": [
    "To implement switch case like characterisitics very similar to if-else functionalit, we use a match case in python. A match case statement will compare a given variable's value to difference shapes, also reffered to as pattern. The main idea is to keep on comparing the variable with all the patterns until it fits into one"
   ]
  },
  {
   "cell_type": "code",
   "execution_count": 33,
   "metadata": {},
   "outputs": [
    {
     "ename": "SyntaxError",
     "evalue": "invalid syntax (<ipython-input-33-1d0585d56b6f>, line 2)",
     "output_type": "error",
     "traceback": [
      "\u001b[1;36m  File \u001b[1;32m\"<ipython-input-33-1d0585d56b6f>\"\u001b[1;36m, line \u001b[1;32m2\u001b[0m\n\u001b[1;33m    match input_number:\u001b[0m\n\u001b[1;37m                     ^\u001b[0m\n\u001b[1;31mSyntaxError\u001b[0m\u001b[1;31m:\u001b[0m invalid syntax\n"
     ]
    }
   ],
   "source": [
    "input_number = int(input(\"Enter the number\"))\n",
    "match input_number:\n",
    "    case 0:\n",
    "        print(\"Number is zero\")\n",
    "    case 1:\n",
    "        print(\"Number is one\")\n",
    "    case _:\n",
    "        print(\"Default\")"
   ]
  },
  {
   "cell_type": "markdown",
   "metadata": {},
   "source": [
    "# Loops in Python"
   ]
  },
  {
   "cell_type": "markdown",
   "metadata": {},
   "source": [
    "for Loop:\n",
    "    for loops can iterate over a sequence of iterable objects in python. Iterating over a sequence is nothing but iterating over strings, list, tuples, sets, dictionaries"
   ]
  },
  {
   "cell_type": "code",
   "execution_count": 34,
   "metadata": {},
   "outputs": [
    {
     "name": "stdout",
     "output_type": "stream",
     "text": [
      "P,y,t,h,o,n,"
     ]
    }
   ],
   "source": [
    "#Example of for loop\n",
    "var1 = \"Python\"\n",
    "for i in var1:\n",
    "    print(i, end=\",\")"
   ]
  },
  {
   "cell_type": "code",
   "execution_count": 35,
   "metadata": {},
   "outputs": [
    {
     "name": "stdout",
     "output_type": "stream",
     "text": [
      "R,e,d,G,r,e,e,n,B,l,u,e,"
     ]
    }
   ],
   "source": [
    "colors = [\"Red\", \"Green\", \"Blue\"]\n",
    "for color in colors:\n",
    "    for i in color:\n",
    "        print(i, end=\",\")"
   ]
  },
  {
   "cell_type": "code",
   "execution_count": 36,
   "metadata": {},
   "outputs": [
    {
     "name": "stdout",
     "output_type": "stream",
     "text": [
      "Enter a number: 3\n",
      "3 * 1 = 3\n",
      "3 * 2 = 6\n",
      "3 * 3 = 9\n",
      "3 * 4 = 12\n",
      "3 * 5 = 15\n",
      "3 * 6 = 18\n",
      "3 * 7 = 21\n",
      "3 * 8 = 24\n",
      "3 * 9 = 27\n",
      "3 * 10 = 30\n"
     ]
    }
   ],
   "source": [
    "table_number = int(input(\"Enter a number: \"))\n",
    "for i in range(1, 11):\n",
    "    print(table_number, \"*\", (i) , \"=\", table_number * (i))"
   ]
  },
  {
   "cell_type": "markdown",
   "metadata": {},
   "source": [
    "while loop: while loop executes the statements while the condition is True. As soon as the condition becomes False, the interpreter comes out of the loop."
   ]
  },
  {
   "cell_type": "code",
   "execution_count": 37,
   "metadata": {},
   "outputs": [
    {
     "name": "stdout",
     "output_type": "stream",
     "text": [
      "5\n",
      "4\n",
      "3\n",
      "2\n",
      "1\n"
     ]
    }
   ],
   "source": [
    "count = 5\n",
    "while(count > 0):\n",
    "    print(count)\n",
    "    count = count -1"
   ]
  },
  {
   "cell_type": "markdown",
   "metadata": {},
   "source": [
    "# Functions"
   ]
  },
  {
   "cell_type": "markdown",
   "metadata": {},
   "source": [
    "A function is a block of code that perform a specific task whenever it is called. There are two types of functions:\n",
    "a. Built-in funciton\n",
    "b. User-defined function"
   ]
  },
  {
   "cell_type": "markdown",
   "metadata": {},
   "source": [
    "# User-defined Functions"
   ]
  },
  {
   "cell_type": "markdown",
   "metadata": {},
   "source": [
    "We can create functions to perform specific tasks as per our needs. Such functions are called user-defined functions"
   ]
  },
  {
   "cell_type": "code",
   "execution_count": 38,
   "metadata": {},
   "outputs": [
    {
     "name": "stdout",
     "output_type": "stream",
     "text": [
      "14.5\n"
     ]
    }
   ],
   "source": [
    "num1 = 9\n",
    "num2 = 20\n",
    "def calculateMean(num1,num2):\n",
    "    mean = (num1 + num2)/2\n",
    "    print(mean)\n",
    "calculateMean(num1,num2)"
   ]
  },
  {
   "cell_type": "code",
   "execution_count": 39,
   "metadata": {},
   "outputs": [
    {
     "name": "stdout",
     "output_type": "stream",
     "text": [
      "x is greater\n",
      "y is greater than or euqal\n"
     ]
    }
   ],
   "source": [
    "def isGreater(x,y):\n",
    "    if(x>y):\n",
    "        print(\"x is greater\")\n",
    "    else:\n",
    "        print(\"y is greater than or euqal\")\n",
    "isGreater(10,5)\n",
    "isGreater(20,30)"
   ]
  },
  {
   "cell_type": "markdown",
   "metadata": {},
   "source": [
    "# Built-in Function "
   ]
  },
  {
   "cell_type": "markdown",
   "metadata": {},
   "source": [
    "This functions are defined and precoded in python. Example: min(), max(), len(), range(), dict(), list(), tuple(), set(),print()etc"
   ]
  },
  {
   "cell_type": "markdown",
   "metadata": {},
   "source": [
    "# Lists"
   ]
  },
  {
   "cell_type": "raw",
   "metadata": {},
   "source": [
    "a. List are considered as collection of data items\n",
    "b. List are ordered, mutable(changable) collection of values\n",
    "c. They store multiple items in a single variable\n",
    "d. List items are spearated by commas and enclosed within square brackets[]"
   ]
  },
  {
   "cell_type": "code",
   "execution_count": 40,
   "metadata": {},
   "outputs": [
    {
     "name": "stdout",
     "output_type": "stream",
     "text": [
      "[1, 4, 5, 64, 3, 56] ['Honda', 'Suzuki', 'Ducati']\n",
      "<class 'list'>\n"
     ]
    }
   ],
   "source": [
    "list_1 = [1,4,5,64,3,56]\n",
    "list_2 = [\"Honda\", \"Suzuki\", \"Ducati\"]\n",
    "print(list_1, list_2)\n",
    "print(type(list_1))"
   ]
  },
  {
   "cell_type": "code",
   "execution_count": 41,
   "metadata": {},
   "outputs": [
    {
     "name": "stdout",
     "output_type": "stream",
     "text": [
      "['John', 'CSIT', 11123, True]\n",
      "John\n",
      "CSIT\n",
      "11123\n",
      "True\n"
     ]
    }
   ],
   "source": [
    "details = [\"John\", \"CSIT\", 11123, True]\n",
    "print(details)\n",
    "for i in details:\n",
    "    print(i)"
   ]
  },
  {
   "cell_type": "code",
   "execution_count": 42,
   "metadata": {},
   "outputs": [
    {
     "name": "stdout",
     "output_type": "stream",
     "text": [
      "1\n",
      "2\n",
      "9\n",
      "1\n",
      "[2, 4, 4]\n"
     ]
    }
   ],
   "source": [
    "numbers_list = [1,2,3,4,6,4,8,9,8]\n",
    "\n",
    "# Positive Indexing\n",
    "print(numbers_list[0])\n",
    "print(numbers_list[1])\n",
    "\n",
    "# Negative Indexing\n",
    "print(numbers_list[-2])\n",
    "print(numbers_list[-9])\n",
    "\n",
    "# Jump indexing\n",
    "print(numbers_list[1:6:2])"
   ]
  },
  {
   "cell_type": "markdown",
   "metadata": {},
   "source": [
    "# List Methods"
   ]
  },
  {
   "cell_type": "markdown",
   "metadata": {},
   "source": [
    "list.sort():- This method sorts the list in ascending order. The original list is updated"
   ]
  },
  {
   "cell_type": "code",
   "execution_count": 43,
   "metadata": {},
   "outputs": [
    {
     "name": "stdout",
     "output_type": "stream",
     "text": [
      "['blue', 'green', 'inidgo', 'voilet']\n"
     ]
    }
   ],
   "source": [
    "colors = [\"voilet\", \"inidgo\", \"blue\", \"green\"]\n",
    "colors.sort()\n",
    "print(colors)"
   ]
  },
  {
   "cell_type": "code",
   "execution_count": 44,
   "metadata": {},
   "outputs": [
    {
     "name": "stdout",
     "output_type": "stream",
     "text": [
      "[1, 3, 9, 22, 45, 56, 87]\n"
     ]
    }
   ],
   "source": [
    "number_list = [1,56,45,22,9,87,3]\n",
    "number_list.sort()\n",
    "print(number_list)"
   ]
  },
  {
   "cell_type": "markdown",
   "metadata": {},
   "source": [
    "reverse():- This method reverses the order of the list"
   ]
  },
  {
   "cell_type": "code",
   "execution_count": 45,
   "metadata": {},
   "outputs": [
    {
     "name": "stdout",
     "output_type": "stream",
     "text": [
      "[87, 56, 45, 22, 9, 3, 1]\n",
      "['voilet', 'inidgo', 'green', 'blue']\n"
     ]
    }
   ],
   "source": [
    "number_list.reverse()\n",
    "colors.reverse()\n",
    "print(number_list)\n",
    "print(colors)"
   ]
  },
  {
   "cell_type": "markdown",
   "metadata": {},
   "source": [
    "append():- We can add elements to the list using append function"
   ]
  },
  {
   "cell_type": "code",
   "execution_count": 46,
   "metadata": {},
   "outputs": [
    {
     "name": "stdout",
     "output_type": "stream",
     "text": [
      "[87, 56, 45, 22, 9, 3, 1, 12.667]\n",
      "['voilet', 'inidgo', 'green', 'blue', 'black']\n"
     ]
    }
   ],
   "source": [
    "number_list.append(12.667)\n",
    "colors.append(\"black\")\n",
    "print(number_list)\n",
    "print(colors)"
   ]
  },
  {
   "cell_type": "code",
   "execution_count": 47,
   "metadata": {},
   "outputs": [
    {
     "name": "stdout",
     "output_type": "stream",
     "text": [
      "[87, 100, 45, 22, 9, 3, 1, 12.667]\n",
      "['voilet', 'inidgo', 'green', 'orange', 'black']\n"
     ]
    }
   ],
   "source": [
    "# Replacing exisiting items\n",
    "number_list[1] = 100\n",
    "colors[3] = \"orange\"\n",
    "print(number_list)\n",
    "print(colors)"
   ]
  },
  {
   "cell_type": "code",
   "execution_count": 48,
   "metadata": {},
   "outputs": [
    {
     "name": "stdout",
     "output_type": "stream",
     "text": [
      "[2, 4, 2, 7]\n"
     ]
    }
   ],
   "source": [
    "# Concatenating two lists \n",
    "data_1 = [2,4]\n",
    "data_2 = [2,7]\n",
    "output = data_1 + data_2\n",
    "print(output)"
   ]
  },
  {
   "cell_type": "markdown",
   "metadata": {},
   "source": [
    "copy():- Returns the copy of the list. This can be done to perform operations on the list without modifying the original list"
   ]
  },
  {
   "cell_type": "code",
   "execution_count": 49,
   "metadata": {},
   "outputs": [
    {
     "name": "stdout",
     "output_type": "stream",
     "text": [
      "['voilet', 'inidgo', 'green', 'orange', 'black']\n",
      "['voilet', 'inidgo', 'green', 'orange', 'black']\n"
     ]
    }
   ],
   "source": [
    "new_color_list = colors.copy()\n",
    "print(colors)\n",
    "print(new_color_list)"
   ]
  },
  {
   "cell_type": "markdown",
   "metadata": {},
   "source": [
    "# Tuples"
   ]
  },
  {
   "cell_type": "markdown",
   "metadata": {},
   "source": [
    "Tuples are the collections that are ordered and immutable(unchangable). We use tuples to store values that will never be changed. Tuples indexing is same as Lists"
   ]
  },
  {
   "cell_type": "code",
   "execution_count": 56,
   "metadata": {},
   "outputs": [
    {
     "name": "stdout",
     "output_type": "stream",
     "text": [
      "(1, 2, 3, 4, 56, 7)\n",
      "('Green', 1.223, True, 56)\n"
     ]
    }
   ],
   "source": [
    "tuple1 = (1,2,3,4,56,7);\n",
    "tuple2 = (\"Green\", 1.223, True, 56)\n",
    "print(tuple1)\n",
    "print(tuple2)"
   ]
  },
  {
   "cell_type": "code",
   "execution_count": 57,
   "metadata": {},
   "outputs": [
    {
     "name": "stdout",
     "output_type": "stream",
     "text": [
      "1\n",
      "2\n",
      "3\n",
      "4\n",
      "56\n",
      "7\n",
      "<class 'tuple'>\n"
     ]
    }
   ],
   "source": [
    "for i in tuple1:\n",
    "    print(i)\n",
    "print(type(tuple1))"
   ]
  },
  {
   "cell_type": "code",
   "execution_count": 58,
   "metadata": {},
   "outputs": [
    {
     "ename": "TypeError",
     "evalue": "'tuple' object does not support item assignment",
     "output_type": "error",
     "traceback": [
      "\u001b[1;31m---------------------------------------------------------------------------\u001b[0m",
      "\u001b[1;31mTypeError\u001b[0m                                 Traceback (most recent call last)",
      "\u001b[1;32m<ipython-input-58-e2a24791abcd>\u001b[0m in \u001b[0;36m<module>\u001b[1;34m\u001b[0m\n\u001b[0;32m      1\u001b[0m \u001b[1;31m# Try to change (it won't work and we get an error)\u001b[0m\u001b[1;33m\u001b[0m\u001b[1;33m\u001b[0m\u001b[1;33m\u001b[0m\u001b[0m\n\u001b[1;32m----> 2\u001b[1;33m \u001b[0mtuple1\u001b[0m\u001b[1;33m[\u001b[0m\u001b[1;36m0\u001b[0m\u001b[1;33m]\u001b[0m \u001b[1;33m=\u001b[0m \u001b[1;36m1.2\u001b[0m\u001b[1;33m\u001b[0m\u001b[1;33m\u001b[0m\u001b[0m\n\u001b[0m",
      "\u001b[1;31mTypeError\u001b[0m: 'tuple' object does not support item assignment"
     ]
    }
   ],
   "source": [
    "# Try to change (it won't work and we get an error)\n",
    "tuple1[0] = 1.2"
   ]
  },
  {
   "cell_type": "code",
   "execution_count": 59,
   "metadata": {},
   "outputs": [
    {
     "name": "stdout",
     "output_type": "stream",
     "text": [
      "(1, True, 'Black', 2.889, False)\n"
     ]
    }
   ],
   "source": [
    "# Adding values to the tuple\n",
    "first_tuple = (1,True,\"Black\")\n",
    "first_tuple = first_tuple + (2.889, False)\n",
    "print(first_tuple)"
   ]
  },
  {
   "cell_type": "code",
   "execution_count": 60,
   "metadata": {},
   "outputs": [
    {
     "name": "stdout",
     "output_type": "stream",
     "text": [
      "True is present in the tuple\n"
     ]
    }
   ],
   "source": [
    "# Conditional statement in Tuple\n",
    "if True in first_tuple:\n",
    "    print(\"True is present in the tuple\")\n",
    "else:\n",
    "    print(\"Invalid Data\")"
   ]
  },
  {
   "cell_type": "markdown",
   "metadata": {},
   "source": [
    "# Manipulating Tuples"
   ]
  },
  {
   "cell_type": "markdown",
   "metadata": {},
   "source": [
    "Tuples are immutable, hence if you want to add,remove or change tuple items, then first you must convert the tuple to a list. Then perform operation on that list and convert it back to tuple"
   ]
  },
  {
   "cell_type": "code",
   "execution_count": 67,
   "metadata": {},
   "outputs": [
    {
     "name": "stdout",
     "output_type": "stream",
     "text": [
      "<class 'tuple'>\n",
      "<class 'list'>\n",
      "['Nepal', 'USA', 'Finland', 'Spain', 'Turkey']\n",
      "('Nepal', 'USA', 'Finland', 'Spain', 'Turkey')\n",
      "<class 'tuple'>\n"
     ]
    }
   ],
   "source": [
    "countries_tuples = (\"Nepal\", \"USA\", \"India\", \"Australia\", \"Spain\", \"Turkey\") # tuples\n",
    "print(type(countries_tuples))\n",
    "\n",
    "countries_lists = list(countries_tuples) # Converting the above tuples to list\n",
    "print(type(countries_lists))\n",
    "\n",
    "countries_lists.pop(3)\n",
    "countries_lists[2] = \"Finland\"\n",
    "print(countries_lists)\n",
    "\n",
    "countries_tuples = tuple(countries_lists) # Converting the above tuples to list\n",
    "print(countries_tuples)\n",
    "print(type(countries_tuples))\n",
    "\n"
   ]
  },
  {
   "cell_type": "markdown",
   "metadata": {},
   "source": [
    "We can directly concatenate two tuples without converting them into list"
   ]
  },
  {
   "cell_type": "code",
   "execution_count": 68,
   "metadata": {},
   "outputs": [
    {
     "name": "stdout",
     "output_type": "stream",
     "text": [
      "('Japan', 'France', 'England', 'Turkey', 'Nepal', 'Bangladesh')\n"
     ]
    }
   ],
   "source": [
    "countries_one = (\"Japan\", \"France\", \"England\")\n",
    "countries_two = (\"Turkey\", \"Nepal\", \"Bangladesh\")\n",
    "combined_countries = countries_one + countries_two\n",
    "print(combined_countries)"
   ]
  },
  {
   "cell_type": "markdown",
   "metadata": {},
   "source": [
    "index() method:-  The index() method returns the first occurrence of the given element from the tuple\n",
    "Syntax: tuple.index(element, start, end)"
   ]
  },
  {
   "cell_type": "code",
   "execution_count": 79,
   "metadata": {},
   "outputs": [
    {
     "name": "stdout",
     "output_type": "stream",
     "text": [
      "First occurrence of 7 is:  7\n"
     ]
    }
   ],
   "source": [
    "tuple_number = (0,1,2,3,4,5,6,7,7,18,8) \n",
    "res = tuple_number.index(7, 1,12)\n",
    "print(\"First occurrence of 7 is: \",res)"
   ]
  },
  {
   "cell_type": "markdown",
   "metadata": {},
   "source": [
    "count() method:- The count() method of Tuple returns the number of times the given element appears in the tuple"
   ]
  },
  {
   "cell_type": "code",
   "execution_count": 75,
   "metadata": {},
   "outputs": [
    {
     "name": "stdout",
     "output_type": "stream",
     "text": [
      "The count of number 7 is:  2\n"
     ]
    }
   ],
   "source": [
    "count_number = tuple_number.count(7)\n",
    "print(\"The count of number 7 is: \", count_number)"
   ]
  },
  {
   "cell_type": "markdown",
   "metadata": {},
   "source": [
    "# String formatting"
   ]
  },
  {
   "cell_type": "markdown",
   "metadata": {},
   "source": [
    "String formatting can be done in python using the format doucment"
   ]
  },
  {
   "cell_type": "code",
   "execution_count": 84,
   "metadata": {},
   "outputs": [
    {
     "name": "stdout",
     "output_type": "stream",
     "text": [
      "The price of Dell Laptop is 496678.00 dollors!\n"
     ]
    }
   ],
   "source": [
    "txt = \"The price of Dell Laptop is {price:.2f} dollors!\"\n",
    "print(txt.format(price = 496678))"
   ]
  },
  {
   "cell_type": "code",
   "execution_count": 86,
   "metadata": {},
   "outputs": [
    {
     "name": "stdout",
     "output_type": "stream",
     "text": [
      "My name is John and I am from France\n"
     ]
    }
   ],
   "source": [
    "letter = \"My name is {1} and I am from {0}\"\n",
    "country = \"France\"\n",
    "name = \"John\"\n",
    "print(letter.format(country, name))"
   ]
  },
  {
   "cell_type": "markdown",
   "metadata": {},
   "source": [
    "# f-strings in python"
   ]
  },
  {
   "cell_type": "markdown",
   "metadata": {},
   "source": [
    "It is a new string formatting machanism introduced by the PEP 498. It is also known as Literal String Interpolation. The f-string offers a convenient way to embade python expression indside string literals for formatting"
   ]
  },
  {
   "cell_type": "code",
   "execution_count": 88,
   "metadata": {},
   "outputs": [
    {
     "name": "stdout",
     "output_type": "stream",
     "text": [
      "Price of laptop is 47.67 only!\n"
     ]
    }
   ],
   "source": [
    "# Example\n",
    "selling_price = 47.667\n",
    "value = f\"Price of laptop is {selling_price:.2f} only!\"\n",
    "print(value)"
   ]
  },
  {
   "cell_type": "code",
   "execution_count": 90,
   "metadata": {},
   "outputs": [
    {
     "name": "stdout",
     "output_type": "stream",
     "text": [
      "My name is Jane and My age is 24\n"
     ]
    }
   ],
   "source": [
    "person_name = \"Jane\"\n",
    "person_age = 24\n",
    "person_details = f\"My name is {person_name} and My age is {person_age}\"\n",
    "print(person_details)"
   ]
  },
  {
   "cell_type": "markdown",
   "metadata": {},
   "source": [
    "# Docstrings in python"
   ]
  },
  {
   "cell_type": "markdown",
   "metadata": {},
   "source": [
    "Python docstrings are the strings literals that appear right after the defination of a function, method class or module."
   ]
  },
  {
   "cell_type": "code",
   "execution_count": 93,
   "metadata": {},
   "outputs": [
    {
     "name": "stdout",
     "output_type": "stream",
     "text": [
      "25\n",
      "Takes a number n and returns the square of n\n"
     ]
    }
   ],
   "source": [
    "# Example\n",
    "def square(n):\n",
    "    '''Takes a number n and returns the square of n'''\n",
    "    print(n**2)\n",
    "square(5)\n",
    "print(square.__doc__) # print the docstring message or string"
   ]
  },
  {
   "cell_type": "markdown",
   "metadata": {},
   "source": [
    "# Python Comments Vs Docstrings"
   ]
  },
  {
   "cell_type": "raw",
   "metadata": {},
   "source": [
    "Python Comments:\n",
    "    Comments are descriptions or message that help the programmers to understand the flow or functionality of the program. They are completely ignored by the python interpreters\n",
    "    \n",
    "Python Docstrings:\n",
    "    Python docstrings are the strings used right after the defination of a function, method, class, or module. We can access the docstring using the doc attribute. The can be printed as output"
   ]
  },
  {
   "cell_type": "markdown",
   "metadata": {},
   "source": [
    "# PEP-8 in python"
   ]
  },
  {
   "cell_type": "markdown",
   "metadata": {},
   "source": [
    "PEP stands for Python Enhancement Proposal. PEP-8 is a document that provides guidelines and best practices on how to write python code. The primary focus of PEP 8 is to improve the readability and consistency of Python code"
   ]
  },
  {
   "cell_type": "markdown",
   "metadata": {},
   "source": [
    "# Recursion"
   ]
  },
  {
   "cell_type": "markdown",
   "metadata": {},
   "source": [
    "Recursion is the process of defining something in terms of itself. In python we know that a function can call other function. It is event possible for the function to call itself. These type of construct are termed as recursive functions"
   ]
  },
  {
   "cell_type": "code",
   "execution_count": 117,
   "metadata": {},
   "outputs": [
    {
     "name": "stdout",
     "output_type": "stream",
     "text": [
      "Number is:  4\n",
      "Factorial of the number is 24\n"
     ]
    }
   ],
   "source": [
    "# Example of factorial\n",
    "def factorial(num):\n",
    "    if(num == 0 or num == 1):\n",
    "        return 1\n",
    "    else:\n",
    "        return (num * factorial(num - 1))\n",
    "num = 4\n",
    "print(\"Number is: \", num)\n",
    "print(\"Factorial of the number is\", factorial(num))"
   ]
  }
 ],
 "metadata": {
  "kernelspec": {
   "display_name": "Python 3",
   "language": "python",
   "name": "python3"
  },
  "language_info": {
   "codemirror_mode": {
    "name": "ipython",
    "version": 3
   },
   "file_extension": ".py",
   "mimetype": "text/x-python",
   "name": "python",
   "nbconvert_exporter": "python",
   "pygments_lexer": "ipython3",
   "version": "3.7.6"
  }
 },
 "nbformat": 4,
 "nbformat_minor": 4
}
